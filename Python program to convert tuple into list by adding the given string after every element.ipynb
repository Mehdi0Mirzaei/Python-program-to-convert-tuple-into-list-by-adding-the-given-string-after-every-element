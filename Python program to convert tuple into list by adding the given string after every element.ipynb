{
 "cells": [
  {
   "cell_type": "code",
   "execution_count": 17,
   "id": "16839511",
   "metadata": {},
   "outputs": [
    {
     "name": "stdout",
     "output_type": "stream",
     "text": [
      "The original tuple is :  (5, 6, 7, 4, 9)\n",
      "Converted Tuple with K :  [5, 'Gfg', 6, 'Gfg', 7, 'Gfg', 4, 'Gfg', 9, 'Gfg']\n"
     ]
    }
   ],
   "source": [
    "# initializing tuple\n",
    "test_tup = (5, 6, 7, 4, 9)\n",
    " \n",
    "# printing original tuple\n",
    "print(\"The original tuple is : \", test_tup)\n",
    " \n",
    "# initializing K\n",
    "K = \"Gfg\"\n",
    " \n",
    "# list comprehension for nested loop for flatten\n",
    "res = [ele for sub in test_tup for ele in (sub, K)]\n",
    " \n",
    "# printing result\n",
    "print(\"Converted Tuple with K : \", res)"
   ]
  },
  {
   "cell_type": "code",
   "execution_count": 18,
   "id": "2398e33e",
   "metadata": {},
   "outputs": [
    {
     "name": "stdout",
     "output_type": "stream",
     "text": [
      "The original tuple is :  (5, 6, 7, 4, 9)\n",
      "Converted Tuple with K :  [5, 'Gfg', 6, 'Gfg', 7, 'Gfg', 4, 'Gfg', 9, 'Gfg']\n"
     ]
    }
   ],
   "source": [
    "# initializing tuple\n",
    "test_tup = (5, 6, 7, 4, 9)\n",
    " \n",
    "# printing original tuple\n",
    "print(\"The original tuple is : \", test_tup)\n",
    " \n",
    "# initializing K\n",
    "K = \"Gfg\"\n",
    "x = list(map(str, test_tup))\n",
    "b = \"*\"+K+\"*\"\n",
    "a = b.join(x)\n",
    "c = a.split(\"*\")\n",
    "c.append(K)\n",
    "res = []\n",
    "for i in c:\n",
    "    if(i != K):\n",
    "        res.append(int(i))\n",
    "    else:\n",
    "        res.append(i)\n",
    "# printing result\n",
    "print(\"Converted Tuple with K : \", res)"
   ]
  },
  {
   "cell_type": "code",
   "execution_count": 19,
   "id": "c70bd6f7",
   "metadata": {},
   "outputs": [
    {
     "name": "stdout",
     "output_type": "stream",
     "text": [
      "The original tuple is :  (5, 6, 7, 4, 9)\n",
      "Converted Tuple with K :  [5, 'Gfg', 6, 'Gfg', 7, 'Gfg', 4, 'Gfg', 9, 'Gfg']\n"
     ]
    }
   ],
   "source": [
    "# initializing tuple\n",
    "test_tup = (5, 6, 7, 4, 9)\n",
    " \n",
    "# printing original tuple\n",
    "print(\"The original tuple is : \", test_tup)\n",
    " \n",
    "# initializing K\n",
    "K = \"Gfg\"\n",
    " \n",
    "# using map\n",
    "res = list(map(lambda x: [x, K], test_tup))\n",
    "res = [j for i in res for j in i]\n",
    " \n",
    "# printing result\n",
    "print(\"Converted Tuple with K : \", res)"
   ]
  },
  {
   "cell_type": "code",
   "execution_count": 20,
   "id": "80734a85",
   "metadata": {},
   "outputs": [
    {
     "name": "stdout",
     "output_type": "stream",
     "text": [
      "The original tuple is :  (5, 6, 7, 4, 9)\n",
      "Converted Tuple with K :  [5, 'Gfg', 6, 'Gfg', 7, 'Gfg', 4, 'Gfg', 9, 'Gfg']\n"
     ]
    }
   ],
   "source": [
    "def tuple_to_list_with_k(tup, k):\n",
    "    if not tup:\n",
    "        return []\n",
    "    else:\n",
    "        return [tup[0], k] + tuple_to_list_with_k(tup[1:], k)\n",
    " # initializing tuple\n",
    "test_tup = (5, 6, 7, 4, 9)\n",
    " \n",
    "# printing original tuple\n",
    "print(\"The original tuple is : \", test_tup)\n",
    " \n",
    "# initializing K\n",
    "K = \"Gfg\"\n",
    " \n",
    " \n",
    "res = tuple_to_list_with_k(test_tup,K)\n",
    " \n",
    "# printing result\n",
    "print(\"Converted Tuple with K : \", res)"
   ]
  },
  {
   "cell_type": "code",
   "execution_count": null,
   "id": "2592b761",
   "metadata": {},
   "outputs": [],
   "source": []
  }
 ],
 "metadata": {
  "kernelspec": {
   "display_name": "Python 3 (ipykernel)",
   "language": "python",
   "name": "python3"
  },
  "language_info": {
   "codemirror_mode": {
    "name": "ipython",
    "version": 3
   },
   "file_extension": ".py",
   "mimetype": "text/x-python",
   "name": "python",
   "nbconvert_exporter": "python",
   "pygments_lexer": "ipython3",
   "version": "3.9.13"
  }
 },
 "nbformat": 4,
 "nbformat_minor": 5
}
